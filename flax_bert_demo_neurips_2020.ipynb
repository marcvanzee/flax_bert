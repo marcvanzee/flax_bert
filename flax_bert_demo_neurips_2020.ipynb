{
 "cells": [
  {
   "cell_type": "markdown",
   "metadata": {},
   "source": [
    "# Fine-tuning BERT in Flax on GLUE\n",
    "\n",
    "This notebook fine-tunes a BERT model one of the [GLUE tasks](https://gluebenchmark.com/). It has the following features:\n",
    "\n",
    "*   Uses the [HuggingFace](https://github.com/huggingface/) datasets and tokenizers libraries.\n",
    "*   Loads the pre-trained BERT weights from HuggingFace.\n",
    "*   Model and training code is written in [Flax](http://www.github.com/google/flax).\n",
    "*   Can be configured to fine-tune on COLA, MRPC, SST2, STSB, QNLI, and RTE.\n",
    "\n",
    "Run-times:\n",
    "\n",
    "*   Single GPU: 8min\n",
    "*   Cloud TPU v3-8: 2min"
   ]
  },
  {
   "cell_type": "code",
   "execution_count": 3,
   "metadata": {},
   "outputs": [],
   "source": [
    "# General imports.\n",
    "import os\n",
    "import jax\n",
    "import jax.numpy as jnp\n",
    "import flax\n",
    "\n",
    "# Huggingface datasets and transformers libraries.\n",
    "import datasets\n",
    "from transformers import BertTokenizerFast\n",
    "\n",
    "# flax_bert-specific imports.\n",
    "from flax import optim\n",
    "import data\n",
    "import modeling as flax_models\n",
    "from demo_lib import get_config, import_pretrained_params, create_model, create_optimizer, run_train, run_eval\n",
    "\n",
    "os.environ['TOKENIZERS_PARALLELISM'] = 'true'"
   ]
  },
  {
   "cell_type": "markdown",
   "metadata": {},
   "source": [
    "## Set your Training Settings"
   ]
  },
  {
   "cell_type": "code",
   "execution_count": 4,
   "metadata": {},
   "outputs": [],
   "source": [
    "train_settings = {\n",
    "    'train_batch_size': 32,\n",
    "    'eval_batch_size': 8,\n",
    "    'learning_rate': 3e-5,\n",
    "    'num_train_epochs': 3,\n",
    "    'dataset_path': 'glue',\n",
    "    'dataset_name': 'mrpc'  # ['cola', 'mrpc', 'sst2', 'stsb', 'qnli', 'rte']\n",
    "}"
   ]
  },
  {
   "cell_type": "markdown",
   "metadata": {},
   "source": [
    "## Load dataset, tokenizers, and model."
   ]
  },
  {
   "cell_type": "code",
   "execution_count": 5,
   "metadata": {},
   "outputs": [
    {
     "name": "stderr",
     "output_type": "stream",
     "text": [
      "Reusing dataset glue (/home/marcvanzee/.cache/huggingface/datasets/glue/mrpc/1.0.0/7c99657241149a24692c402a5c3f34d4c9f1df5ac2e4c3759fadea38f6cb29c4)\n"
     ]
    },
    {
     "data": {
      "application/vnd.jupyter.widget-view+json": {
       "model_id": "0b5b27b13cd0488db84bfce85d5c93b6",
       "version_major": 2,
       "version_minor": 0
      },
      "text/plain": [
       "HBox(children=(FloatProgress(value=0.0, description='Downloading', max=433.0, style=ProgressStyle(description_…"
      ]
     },
     "metadata": {},
     "output_type": "display_data"
    },
    {
     "name": "stdout",
     "output_type": "stream",
     "text": [
      "\n"
     ]
    },
    {
     "data": {
      "application/vnd.jupyter.widget-view+json": {
       "model_id": "f3c67f080ef645e78b0281fbe561d7d1",
       "version_major": 2,
       "version_minor": 0
      },
      "text/plain": [
       "HBox(children=(FloatProgress(value=0.0, description='Downloading', max=231508.0, style=ProgressStyle(descripti…"
      ]
     },
     "metadata": {},
     "output_type": "display_data"
    },
    {
     "name": "stdout",
     "output_type": "stream",
     "text": [
      "\n"
     ]
    },
    {
     "data": {
      "application/vnd.jupyter.widget-view+json": {
       "model_id": "e5d2e0720bcc4e249a87576128884972",
       "version_major": 2,
       "version_minor": 0
      },
      "text/plain": [
       "HBox(children=(FloatProgress(value=0.0, description='Downloading', max=466062.0, style=ProgressStyle(descripti…"
      ]
     },
     "metadata": {},
     "output_type": "display_data"
    },
    {
     "name": "stderr",
     "output_type": "stream",
     "text": [
      "Loading cached processed dataset at /home/marcvanzee/.cache/huggingface/datasets/glue/mrpc/1.0.0/7c99657241149a24692c402a5c3f34d4c9f1df5ac2e4c3759fadea38f6cb29c4/cache-613c8ebe967bb60f.arrow\n",
      "Loading cached processed dataset at /home/marcvanzee/.cache/huggingface/datasets/glue/mrpc/1.0.0/7c99657241149a24692c402a5c3f34d4c9f1df5ac2e4c3759fadea38f6cb29c4/cache-9c525b7013511374.arrow\n",
      "Loading cached processed dataset at /home/marcvanzee/.cache/huggingface/datasets/glue/mrpc/1.0.0/7c99657241149a24692c402a5c3f34d4c9f1df5ac2e4c3759fadea38f6cb29c4/cache-9c0c46070208810a.arrow\n"
     ]
    },
    {
     "name": "stdout",
     "output_type": "stream",
     "text": [
      "\n"
     ]
    },
    {
     "data": {
      "application/vnd.jupyter.widget-view+json": {
       "model_id": "fd3d4fd139854245b0d6695e25e4991d",
       "version_major": 2,
       "version_minor": 0
      },
      "text/plain": [
       "HBox(children=(FloatProgress(value=0.0, description='Downloading', max=440473133.0, style=ProgressStyle(descri…"
      ]
     },
     "metadata": {},
     "output_type": "display_data"
    },
    {
     "name": "stdout",
     "output_type": "stream",
     "text": [
      "\n",
      "loading weights file https://huggingface.co/bert-base-uncased/resolve/main/pytorch_model.bin from cache at /home/marcvanzee/.cache/torch/transformers/a8041bf617d7f94ea26d15e218abd04afc2004805632abc0ed2066aa16d50d04.faf6ea826ae9c5867d12b22257f9877e6b8367890837bd60f7c54a29633f7f2f\n"
     ]
    }
   ],
   "source": [
    "# Load the GLUE task.\n",
    "dataset = datasets.load_dataset('glue', train_settings['dataset_name'])\n",
    "\n",
    "# Get pre-trained config and update it with the train configuration.\n",
    "config = get_config('bert-base-uncased', dataset)\n",
    "config.update(train_settings)\n",
    "\n",
    "# Load HuggingFace tokenizer and data pipeline.\n",
    "tokenizer = BertTokenizerFast.from_pretrained(config.tokenizer)\n",
    "data_pipeline = data.ClassificationDataPipeline(dataset, tokenizer)\n",
    "\n",
    "# Create Flax model and optimizer.\n",
    "pretrained_params = import_pretrained_params(config)\n",
    "model = create_model(config, pretrained_params)\n",
    "optimizer = create_optimizer(config, model, pretrained_params)"
   ]
  },
  {
   "cell_type": "markdown",
   "metadata": {},
   "source": [
    "## Run Training"
   ]
  },
  {
   "cell_type": "code",
   "execution_count": 6,
   "metadata": {},
   "outputs": [
    {
     "name": "stdout",
     "output_type": "stream",
     "text": [
      "\n",
      "Starting training on mrpc for 343 steps (3 epochs)...\n",
      "\n",
      "Step 0       grad_norm = 108.0107421875\n",
      "             loss = 0.8161654472351074\n",
      "Step 200     grad_norm = 49.66865539550781\n",
      "             loss = 0.27637040615081787\n",
      "             seconds_per_step = 0.2847726345062256\n",
      "\n",
      "Finished training.\n"
     ]
    }
   ],
   "source": [
    "optimizer = run_train(optimizer, data_pipeline, tokenizer, config)"
   ]
  },
  {
   "cell_type": "markdown",
   "metadata": {},
   "source": [
    "## Run Evaluation\n",
    "\n",
    "The target eval_f1 for MRPC is 88.9."
   ]
  },
  {
   "cell_type": "code",
   "execution_count": 8,
   "metadata": {},
   "outputs": [
    {
     "name": "stdout",
     "output_type": "stream",
     "text": [
      "\n",
      "Running eval...\n",
      "\n",
      "eval_accuracy = 0.852941\n",
      "eval_f1 = 0.895833\n"
     ]
    }
   ],
   "source": [
    "run_eval(optimizer, data_pipeline, config)"
   ]
  },
  {
   "cell_type": "code",
   "execution_count": null,
   "metadata": {},
   "outputs": [],
   "source": []
  }
 ],
 "metadata": {
  "kernelspec": {
   "display_name": "Python 3",
   "language": "python",
   "name": "python3"
  },
  "language_info": {
   "codemirror_mode": {
    "name": "ipython",
    "version": 3
   },
   "file_extension": ".py",
   "mimetype": "text/x-python",
   "name": "python",
   "nbconvert_exporter": "python",
   "pygments_lexer": "ipython3",
   "version": "3.6.9"
  }
 },
 "nbformat": 4,
 "nbformat_minor": 4
}
