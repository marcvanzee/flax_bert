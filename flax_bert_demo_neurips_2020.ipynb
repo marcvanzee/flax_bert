{
 "cells": [
  {
   "cell_type": "markdown",
   "metadata": {},
   "source": [
    "# Fine-tuning BERT in Flax on GLUE\n",
    "\n",
    "This notebook fine-tunes a BERT model one of the [GLUE tasks](https://gluebenchmark.com/). It has the following features:\n",
    "\n",
    "*   Uses the [HuggingFace](https://github.com/huggingface/) datasets and tokenizers libraries.\n",
    "*   Loads the pre-trained BERT weights from HuggingFace.\n",
    "*   Model and training code is written in [Flax](http://www.github.com/google/flax).\n",
    "*   Can be configured to fine-tune on COLA, MRPC, SST2, STSB, QNLI, and RTE.\n",
    "\n",
    "Run-times:\n",
    "\n",
    "*   Single GPU: 8min\n",
    "*   Cloud TPU v3-8: 2min"
   ]
  },
  {
   "cell_type": "code",
   "execution_count": 1,
   "metadata": {},
   "outputs": [],
   "source": [
    "# General imports.\n",
    "import os\n",
    "import jax\n",
    "import jax.numpy as jnp\n",
    "import flax\n",
    "\n",
    "# Huggingface datasets and transformers libraries.\n",
    "import datasets\n",
    "from transformers import BertTokenizerFast\n",
    "\n",
    "# flax_bert-specific imports.\n",
    "from flax import optim\n",
    "import data\n",
    "import modeling as flax_models\n",
    "from demo_lib import get_config, import_pretrained_params, create_model, create_optimizer, run_train, run_eval\n",
    "\n",
    "os.environ['TOKENIZERS_PARALLELISM'] = 'true'"
   ]
  },
  {
   "cell_type": "markdown",
   "metadata": {},
   "source": [
    "## Set your Training Settings"
   ]
  },
  {
   "cell_type": "code",
   "execution_count": 2,
   "metadata": {},
   "outputs": [],
   "source": [
    "train_settings = {\n",
    "    'train_batch_size': 32,\n",
    "    'eval_batch_size': 8,\n",
    "    'learning_rate': 3e-5,\n",
    "    'num_train_epochs': 3,\n",
    "    'dataset_path': 'glue',\n",
    "    'dataset_name': 'mrpc'  # ['cola', 'mrpc', 'sst2', 'stsb', 'qnli', 'rte']\n",
    "}"
   ]
  },
  {
   "cell_type": "markdown",
   "metadata": {},
   "source": [
    "## Load dataset, tokenizers, and model."
   ]
  },
  {
   "cell_type": "code",
   "execution_count": 8,
   "metadata": {},
   "outputs": [
    {
     "name": "stderr",
     "output_type": "stream",
     "text": [
      "Reusing dataset glue (/home/marcvanzee/.cache/huggingface/datasets/glue/mrpc/1.0.0/7c99657241149a24692c402a5c3f34d4c9f1df5ac2e4c3759fadea38f6cb29c4)\n"
     ]
    },
    {
     "data": {
      "application/vnd.jupyter.widget-view+json": {
       "model_id": "6b72fdf858d045e6b971e28622fbca5e",
       "version_major": 2,
       "version_minor": 0
      },
      "text/plain": [
       "HBox(children=(HTML(value=''), FloatProgress(value=0.0, max=4.0), HTML(value='')))"
      ]
     },
     "metadata": {},
     "output_type": "display_data"
    },
    {
     "name": "stdout",
     "output_type": "stream",
     "text": [
      "\n"
     ]
    },
    {
     "data": {
      "application/vnd.jupyter.widget-view+json": {
       "model_id": "5f96e637afac4d35ae293659da0b78ef",
       "version_major": 2,
       "version_minor": 0
      },
      "text/plain": [
       "HBox(children=(HTML(value=''), FloatProgress(value=0.0, max=1.0), HTML(value='')))"
      ]
     },
     "metadata": {},
     "output_type": "display_data"
    },
    {
     "name": "stdout",
     "output_type": "stream",
     "text": [
      "\n"
     ]
    },
    {
     "data": {
      "application/vnd.jupyter.widget-view+json": {
       "model_id": "094273cfb4d44dd5a7659c2b3ff29a50",
       "version_major": 2,
       "version_minor": 0
      },
      "text/plain": [
       "HBox(children=(HTML(value=''), FloatProgress(value=0.0, max=2.0), HTML(value='')))"
      ]
     },
     "metadata": {},
     "output_type": "display_data"
    },
    {
     "name": "stdout",
     "output_type": "stream",
     "text": [
      "\n",
      "loading weights file https://cdn.huggingface.co/bert-base-uncased-pytorch_model.bin from cache at /home/marcvanzee/.cache/torch/transformers/f2ee78bdd635b758cc0a12352586868bef80e47401abe4c4fcc3832421e7338b.36ca03ab34a1a5d5fa7bc3d03d55c4fa650fed07220e2eeebc06ce58d0e9a157\n"
     ]
    }
   ],
   "source": [
    "# Load the GLUE task.\n",
    "dataset = datasets.load_dataset('glue', train_settings['dataset_name'])\n",
    "\n",
    "# Get pre-trained config and update it with the train configuration.\n",
    "config = get_config('bert-base-uncased', dataset)\n",
    "config.update(train_settings)\n",
    "\n",
    "# Load HuggingFace tokenizer and data pipeline.\n",
    "tokenizer = BertTokenizerFast.from_pretrained(config.tokenizer)\n",
    "data_pipeline = data.ClassificationDataPipeline(dataset, tokenizer)\n",
    "\n",
    "# Create Flax model and optimizer.\n",
    "pretrained_params = import_pretrained_params(config)\n",
    "model = create_model(config, pretrained_params)\n",
    "optimizer = create_optimizer(config, model, pretrained_params)"
   ]
  },
  {
   "cell_type": "markdown",
   "metadata": {},
   "source": [
    "## Run Training"
   ]
  },
  {
   "cell_type": "code",
   "execution_count": 9,
   "metadata": {},
   "outputs": [
    {
     "name": "stdout",
     "output_type": "stream",
     "text": [
      "\n",
      "Starting training on mrpc for 343 steps (3 epochs)...\n",
      "\n",
      "Step 0       grad_norm = 2.1773173809051514\n",
      "             loss = 0.655493438243866\n",
      "Step 200     grad_norm = 84.15443420410156\n",
      "             loss = 0.31002330780029297\n",
      "             seconds_per_step = 0.31129512190818787\n",
      "\n",
      "Finished training.\n"
     ]
    }
   ],
   "source": [
    "optimizer = run_train(optimizer, data_pipeline, tokenizer, config)"
   ]
  },
  {
   "cell_type": "markdown",
   "metadata": {},
   "source": [
    "## Run Evaluation\n",
    "\n",
    "The target eval_f1 for MRPC is 88.9."
   ]
  },
  {
   "cell_type": "code",
   "execution_count": 10,
   "metadata": {},
   "outputs": [
    {
     "name": "stdout",
     "output_type": "stream",
     "text": [
      "\n",
      "Running eval...\n",
      "\n",
      "eval_accuracy = 0.843137\n",
      "eval_f1 = 0.890785\n"
     ]
    }
   ],
   "source": [
    "run_eval(optimizer, data_pipeline, config)"
   ]
  }
 ],
 "metadata": {
  "kernelspec": {
   "display_name": "Python 3",
   "language": "python",
   "name": "python3"
  },
  "language_info": {
   "codemirror_mode": {
    "name": "ipython",
    "version": 3
   },
   "file_extension": ".py",
   "mimetype": "text/x-python",
   "name": "python",
   "nbconvert_exporter": "python",
   "pygments_lexer": "ipython3",
   "version": "3.6.9"
  }
 },
 "nbformat": 4,
 "nbformat_minor": 4
}
